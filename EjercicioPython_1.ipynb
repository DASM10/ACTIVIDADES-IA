{
  "nbformat": 4,
  "nbformat_minor": 0,
  "metadata": {
    "colab": {
      "provenance": [],
      "authorship_tag": "ABX9TyNnmVu602PUZNBwTfOUy+pY",
      "include_colab_link": true
    },
    "kernelspec": {
      "name": "python3",
      "display_name": "Python 3"
    },
    "language_info": {
      "name": "python"
    }
  },
  "cells": [
    {
      "cell_type": "markdown",
      "metadata": {
        "id": "view-in-github",
        "colab_type": "text"
      },
      "source": [
        "<a href=\"https://colab.research.google.com/github/DASM10/ACTIVIDADES-IA/blob/main/EjercicioPython_1.ipynb\" target=\"_parent\"><img src=\"https://colab.research.google.com/assets/colab-badge.svg\" alt=\"Open In Colab\"/></a>"
      ]
    },
    {
      "cell_type": "code",
      "execution_count": 8,
      "metadata": {
        "colab": {
          "base_uri": "https://localhost:8080/"
        },
        "id": "9F17cn-PA3hc",
        "outputId": "65f4eb2f-f3e8-4b7b-c640-62297430df55"
      },
      "outputs": [
        {
          "output_type": "stream",
          "name": "stdout",
          "text": [
            "Por favor, introduce tu nombre: Pedro\n",
            "¡Hola, Pedro! Pero parece que eres uno de los que no querían ser saludados.\n"
          ]
        }
      ],
      "source": [
        "#Actividad 2: Diseño de algoritmos en Python, Datos: Daniel Alberto Silva Moreno 1868223 IMTC N4-N6\n",
        "#EJERCICIO 1\n",
        "def saludar():\n",
        "    # Solicitar al usuario su nombre\n",
        "    nombre = input(\"Por favor, introduce tu nombre: \")\n",
        "\n",
        "    # Verificar si el nombre está en la lista de excepciones\n",
        "    if nombre.lower() in [\"ana\", \"juan\", \"pedro\"]:\n",
        "        print(\"¡Hola, \" + nombre + \"! Pero parece que eres uno de los que no querían ser saludados.\")\n",
        "    else:\n",
        "        print(\"¡Hola, \" + nombre + \"!\")\n",
        "\n",
        "# Llamar a la función para saludar al usuario\n",
        "saludar()"
      ]
    },
    {
      "cell_type": "code",
      "source": [
        "#EJERCICIO 2\n",
        "def invertir_lista():\n",
        "    # Solicitar al usuario el número de elementos de la lista\n",
        "    n = int(input(\"Ingrese el número de elementos de la lista: \"))\n",
        "\n",
        "    # Solicitar al usuario los elementos de la lista\n",
        "    lista = []\n",
        "    for i in range(n):\n",
        "        elemento = input(\"Ingrese el elemento #\" + str(i+1) + \": \")\n",
        "        lista.append(elemento)\n",
        "\n",
        "    # Invertir la lista\n",
        "    lista_invertida = lista[::-1]\n",
        "\n",
        "    # Imprimir la lista invertida\n",
        "    print(\"La lista invertida es:\", lista_invertida)\n",
        "\n",
        "# Llamar a la función para invertir la lista\n",
        "invertir_lista()"
      ],
      "metadata": {
        "colab": {
          "base_uri": "https://localhost:8080/"
        },
        "id": "Wdx7nbZGBCCY",
        "outputId": "67bc0742-a359-4fe9-9ec4-207593f8401e"
      },
      "execution_count": 3,
      "outputs": [
        {
          "output_type": "stream",
          "name": "stdout",
          "text": [
            "Ingrese el número de elementos de la lista: 4\n",
            "Ingrese el elemento #1: Manzana\n",
            "Ingrese el elemento #2: Banana\n",
            "Ingrese el elemento #3: Piña\n",
            "Ingrese el elemento #4: Jicama\n",
            "La lista invertida es: ['Jicama', 'Piña', 'Banana', 'Manzana']\n"
          ]
        }
      ]
    },
    {
      "cell_type": "code",
      "source": [
        "#EJERCICIO 3\n",
        "def fibonacci(n):\n",
        "    # Inicializar los primeros dos números de la serie de Fibonacci\n",
        "    fibonacci_sequence = [0, 1]\n",
        "\n",
        "    # Generar la serie de Fibonacci hasta el n-ésimo número\n",
        "    for i in range(2, n):\n",
        "        fibonacci_sequence.append(fibonacci_sequence[i - 1] + fibonacci_sequence[i - 2])\n",
        "\n",
        "    return fibonacci_sequence\n",
        "\n",
        "def main():\n",
        "    # Solicitar al usuario cuántos números de la serie de Fibonacci desea generar\n",
        "    cantidad = int(input(\"¿Cuántos números de la serie de Fibonacci desea generar? \"))\n",
        "\n",
        "    # Generar la serie de Fibonacci\n",
        "    fibonacci_sequence = fibonacci(cantidad)\n",
        "\n",
        "    # Imprimir la serie de Fibonacci generada\n",
        "    print(\"La serie de Fibonacci con\", cantidad, \"números es:\")\n",
        "    for num in fibonacci_sequence:\n",
        "        print(num)\n",
        "\n",
        "# Llamar a la función principal\n",
        "main()"
      ],
      "metadata": {
        "colab": {
          "base_uri": "https://localhost:8080/"
        },
        "id": "stuexysfBUZF",
        "outputId": "b36e92d6-7f1d-4792-d9e5-f97a88310d50"
      },
      "execution_count": 4,
      "outputs": [
        {
          "output_type": "stream",
          "name": "stdout",
          "text": [
            "¿Cuántos números de la serie de Fibonacci desea generar? 6\n",
            "La serie de Fibonacci con 6 números es:\n",
            "0\n",
            "1\n",
            "1\n",
            "2\n",
            "3\n",
            "5\n"
          ]
        }
      ]
    },
    {
      "cell_type": "code",
      "source": [
        "#EJERCICIO 4\n",
        "import random\n",
        "\n",
        "def adivinar_numero():\n",
        "    # Generar un número aleatorio entre 1 y 100\n",
        "    numero_objetivo = random.randint(1, 100)\n",
        "    intentos = 0\n",
        "\n",
        "    print(\"¡Bienvenido al juego de adivinar el número!\")\n",
        "\n",
        "    while True:\n",
        "        # Solicitar al usuario que adivine el número\n",
        "        intento = int(input(\"Introduce un número entre 1 y 100: \"))\n",
        "        intentos += 1\n",
        "\n",
        "        # Comprobar si el número es igual al número objetivo\n",
        "        if intento == numero_objetivo:\n",
        "            print(\"¡Felicidades! Has adivinado el número en\", intentos, \"intentos.\")\n",
        "            break\n",
        "        # Proporcionar pistas al usuario si el número es mayor o menor que el número objetivo\n",
        "        elif intento < numero_objetivo:\n",
        "            print(\"El número es mayor. Intenta de nuevo.\")\n",
        "        else:\n",
        "            print(\"El número es menor. Intenta de nuevo.\")\n",
        "\n",
        "# Llamar a la función para iniciar el juego\n",
        "adivinar_numero()"
      ],
      "metadata": {
        "colab": {
          "base_uri": "https://localhost:8080/"
        },
        "id": "HwF6xuPRBZ8f",
        "outputId": "e6211f5f-a6c4-4d84-ac7b-a3eafda9aaba"
      },
      "execution_count": 5,
      "outputs": [
        {
          "output_type": "stream",
          "name": "stdout",
          "text": [
            "¡Bienvenido al juego de adivinar el número!\n",
            "Introduce un número entre 1 y 100: 56\n",
            "El número es mayor. Intenta de nuevo.\n",
            "Introduce un número entre 1 y 100: 60\n",
            "El número es mayor. Intenta de nuevo.\n",
            "Introduce un número entre 1 y 100: 70\n",
            "El número es mayor. Intenta de nuevo.\n",
            "Introduce un número entre 1 y 100: 94\n",
            "¡Felicidades! Has adivinado el número en 4 intentos.\n"
          ]
        }
      ]
    },
    {
      "cell_type": "code",
      "source": [
        "#EJERCICIO 5\n",
        "def es_primo(numero):\n",
        "    if numero <= 1:\n",
        "        return False\n",
        "    elif numero <= 3:\n",
        "        return True\n",
        "    elif numero % 2 == 0 or numero % 3 == 0:\n",
        "        return False\n",
        "    i = 5\n",
        "    while i * i <= numero:\n",
        "        if numero % i == 0 or numero % (i + 2) == 0:\n",
        "            return False\n",
        "        i += 6\n",
        "    return True\n",
        "\n",
        "def numeros_primos_en_rango(inicio, fin):\n",
        "    print(\"Números primos en el rango de\", inicio, \"a\", fin, \"son:\")\n",
        "    for numero in range(inicio, fin + 1):\n",
        "        if es_primo(numero):\n",
        "            print(numero)\n",
        "\n",
        "def main():\n",
        "    inicio = int(input(\"Ingrese el número inicial del rango: \"))\n",
        "    fin = int(input(\"Ingrese el número final del rango: \"))\n",
        "\n",
        "    print(\"Buscando números primos en el rango de\", inicio, \"a\", fin, \"...\")\n",
        "    numeros_primos_en_rango(inicio, fin)\n",
        "\n",
        "# Llamar a la función principal\n",
        "main()"
      ],
      "metadata": {
        "colab": {
          "base_uri": "https://localhost:8080/"
        },
        "id": "p9sVwPZ5Bl8O",
        "outputId": "696e5862-ef9a-4733-ae1e-21c43c819834"
      },
      "execution_count": 6,
      "outputs": [
        {
          "output_type": "stream",
          "name": "stdout",
          "text": [
            "Ingrese el número inicial del rango: 3\n",
            "Ingrese el número final del rango: 31\n",
            "Buscando números primos en el rango de 3 a 31 ...\n",
            "Números primos en el rango de 3 a 31 son:\n",
            "3\n",
            "5\n",
            "7\n",
            "11\n",
            "13\n",
            "17\n",
            "19\n",
            "23\n",
            "29\n",
            "31\n"
          ]
        }
      ]
    },
    {
      "cell_type": "code",
      "source": [
        "#EJERCICIO 6\n",
        "def suma(a, b):\n",
        "    return a + b\n",
        "\n",
        "def resta(a, b):\n",
        "    return a - b\n",
        "\n",
        "def multiplicacion(a, b):\n",
        "    return a * b\n",
        "\n",
        "def division(a, b):\n",
        "    if b == 0:\n",
        "        return \"No se puede dividir entre cero\"\n",
        "    else:\n",
        "        return a / b\n",
        "\n",
        "def main():\n",
        "    # Solicitar al usuario dos números\n",
        "    num1 = float(input(\"Ingrese el primer número: \"))\n",
        "    num2 = float(input(\"Ingrese el segundo número: \"))\n",
        "\n",
        "    # Realizar operaciones básicas\n",
        "    resultado_suma = suma(num1, num2)\n",
        "    resultado_resta = resta(num1, num2)\n",
        "    resultado_multiplicacion = multiplicacion(num1, num2)\n",
        "    resultado_division = division(num1, num2)\n",
        "\n",
        "    # Imprimir resultados\n",
        "    print(\"Suma:\", resultado_suma)\n",
        "    print(\"Resta:\", resultado_resta)\n",
        "    print(\"Multiplicación:\", resultado_multiplicacion)\n",
        "    print(\"División:\", resultado_division)\n",
        "\n",
        "# Llamar a la función principal\n",
        "main()"
      ],
      "metadata": {
        "colab": {
          "base_uri": "https://localhost:8080/"
        },
        "id": "6s_VGXpFBvTz",
        "outputId": "b7ac33d1-9151-4c59-e4b0-3944cbea6355"
      },
      "execution_count": 7,
      "outputs": [
        {
          "output_type": "stream",
          "name": "stdout",
          "text": [
            "Ingrese el primer número: 50\n",
            "Ingrese el segundo número: 25\n",
            "Suma: 75.0\n",
            "Resta: 25.0\n",
            "Multiplicación: 1250.0\n",
            "División: 2.0\n"
          ]
        }
      ]
    }
  ]
}