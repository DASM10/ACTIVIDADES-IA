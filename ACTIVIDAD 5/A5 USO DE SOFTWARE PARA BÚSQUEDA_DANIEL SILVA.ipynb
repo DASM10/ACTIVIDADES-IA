{
  "nbformat": 4,
  "nbformat_minor": 0,
  "metadata": {
    "colab": {
      "provenance": []
    },
    "kernelspec": {
      "name": "python3",
      "display_name": "Python 3"
    },
    "language_info": {
      "name": "python"
    }
  },
  "cells": [
    {
      "cell_type": "code",
      "execution_count": 2,
      "metadata": {
        "colab": {
          "base_uri": "https://localhost:8080/"
        },
        "id": "nFuyGig5QEr-",
        "outputId": "d0da379a-59f9-419f-9706-0e797ec0f6c7"
      },
      "outputs": [
        {
          "output_type": "stream",
          "name": "stdout",
          "text": [
            "Epoch 1/5\n",
            "1875/1875 [==============================] - 9s 4ms/step - loss: 0.2585 - accuracy: 0.9264\n",
            "Epoch 2/5\n",
            "1875/1875 [==============================] - 8s 4ms/step - loss: 0.1169 - accuracy: 0.9655\n",
            "Epoch 3/5\n",
            "1875/1875 [==============================] - 8s 4ms/step - loss: 0.0806 - accuracy: 0.9760\n",
            "Epoch 4/5\n",
            "1875/1875 [==============================] - 8s 4ms/step - loss: 0.0596 - accuracy: 0.9818\n",
            "Epoch 5/5\n",
            "1875/1875 [==============================] - 8s 5ms/step - loss: 0.0460 - accuracy: 0.9860\n",
            "313/313 [==============================] - 1s 2ms/step - loss: 0.0819 - accuracy: 0.9749\n",
            "Exactitud del modelo en el conjunto de prueba: 0.9749000072479248\n",
            "1/1 [==============================] - 0s 60ms/step\n",
            "Predicción: 7 Valor Real: 7\n",
            "1/1 [==============================] - 0s 36ms/step\n",
            "Predicción: 2 Valor Real: 2\n",
            "1/1 [==============================] - 0s 23ms/step\n",
            "Predicción: 1 Valor Real: 1\n",
            "1/1 [==============================] - 0s 22ms/step\n",
            "Predicción: 0 Valor Real: 0\n",
            "1/1 [==============================] - 0s 22ms/step\n",
            "Predicción: 4 Valor Real: 4\n"
          ]
        }
      ],
      "source": [
        "# ACTIVIDAD 5: Uso de software para búsqueda Daniel Alberto Silva Moreno 1868223 Martes N4-N6\n",
        "import tensorflow as tf\n",
        "from tensorflow.keras.datasets import mnist\n",
        "\n",
        "# Cargar el conjunto de datos\n",
        "(train_data, train_labels), (test_data, test_labels) = mnist.load_data()\n",
        "\n",
        "# Normalizar los valores de píxeles al rango [0, 1]\n",
        "train_data = train_data / 255.0\n",
        "test_data = test_data / 255.0\n",
        "\n",
        "# Definir la arquitectura de la red neuronal\n",
        "modelo = tf.keras.Sequential([\n",
        "    tf.keras.layers.Flatten(input_shape=(28, 28)),  # Capa de entrada\n",
        "    tf.keras.layers.Dense(128, activation='relu'), # Capa oculta con activación ReLU\n",
        "    tf.keras.layers.Dense(10, activation='softmax') # Capa de salida con activación softmax\n",
        "])\n",
        "\n",
        "# Compilar el modelo\n",
        "modelo.compile(optimizer='adam',\n",
        "               loss='sparse_categorical_crossentropy',\n",
        "               metrics=['accuracy'])\n",
        "\n",
        "# Entrenar el modelo\n",
        "modelo.fit(train_data, train_labels, epochs=5, batch_size=32)\n",
        "\n",
        "# Evaluar el modelo con el conjunto de prueba\n",
        "test_loss, test_accuracy = modelo.evaluate(test_data, test_labels)\n",
        "print(\"Exactitud del modelo en el conjunto de prueba:\", test_accuracy)\n",
        "\n",
        "# Realizar 5 predicciones con el conjunto de prueba\n",
        "for i in range(5):\n",
        "    predicciones = modelo.predict(test_data[[i]])\n",
        "    prediccion = tf.argmax(predicciones[0]).numpy()\n",
        "    valor_real = test_labels[i]\n",
        "    print(\"Predicción:\", prediccion, \"Valor Real:\", valor_real)"
      ]
    }
  ]
}